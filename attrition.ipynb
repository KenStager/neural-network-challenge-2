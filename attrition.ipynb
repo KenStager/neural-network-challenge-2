{
  "cells": [
    {
      "cell_type": "markdown",
      "metadata": {
        "id": "alIIEHibGc3M"
      },
      "source": [
        "## Part 1: Preprocessing"
      ]
    },
    {
      "cell_type": "code",
      "execution_count": 1,
      "metadata": {
        "colab": {
          "base_uri": "https://localhost:8080/",
          "height": 325
        },
        "id": "6eDUJ4NtGc3P",
        "outputId": "2480098c-135c-4cbf-9552-018494ee8ff5"
      },
      "outputs": [
        {
          "name": "stderr",
          "output_type": "stream",
          "text": [
            "/var/folders/g3/c42f9hrj2zjcygj7ht932xnh0000gn/T/ipykernel_23153/13696627.py:4: DeprecationWarning: \n",
            "Pyarrow will become a required dependency of pandas in the next major release of pandas (pandas 3.0),\n",
            "(to allow more performant data types, such as the Arrow string type, and better interoperability with other libraries)\n",
            "but was not found to be installed on your system.\n",
            "If this would cause problems for you,\n",
            "please provide us feedback at https://github.com/pandas-dev/pandas/issues/54466\n",
            "        \n",
            "  import pandas as pd\n",
            "2024-05-07 15:24:58.111721: I tensorflow/core/platform/cpu_feature_guard.cc:210] This TensorFlow binary is optimized to use available CPU instructions in performance-critical operations.\n",
            "To enable the following instructions: AVX2 FMA, in other operations, rebuild TensorFlow with the appropriate compiler flags.\n"
          ]
        },
        {
          "data": {
            "text/html": [
              "<div>\n",
              "<style scoped>\n",
              "    .dataframe tbody tr th:only-of-type {\n",
              "        vertical-align: middle;\n",
              "    }\n",
              "\n",
              "    .dataframe tbody tr th {\n",
              "        vertical-align: top;\n",
              "    }\n",
              "\n",
              "    .dataframe thead th {\n",
              "        text-align: right;\n",
              "    }\n",
              "</style>\n",
              "<table border=\"1\" class=\"dataframe\">\n",
              "  <thead>\n",
              "    <tr style=\"text-align: right;\">\n",
              "      <th></th>\n",
              "      <th>Age</th>\n",
              "      <th>Attrition</th>\n",
              "      <th>BusinessTravel</th>\n",
              "      <th>Department</th>\n",
              "      <th>DistanceFromHome</th>\n",
              "      <th>Education</th>\n",
              "      <th>EducationField</th>\n",
              "      <th>EnvironmentSatisfaction</th>\n",
              "      <th>HourlyRate</th>\n",
              "      <th>JobInvolvement</th>\n",
              "      <th>...</th>\n",
              "      <th>PerformanceRating</th>\n",
              "      <th>RelationshipSatisfaction</th>\n",
              "      <th>StockOptionLevel</th>\n",
              "      <th>TotalWorkingYears</th>\n",
              "      <th>TrainingTimesLastYear</th>\n",
              "      <th>WorkLifeBalance</th>\n",
              "      <th>YearsAtCompany</th>\n",
              "      <th>YearsInCurrentRole</th>\n",
              "      <th>YearsSinceLastPromotion</th>\n",
              "      <th>YearsWithCurrManager</th>\n",
              "    </tr>\n",
              "  </thead>\n",
              "  <tbody>\n",
              "    <tr>\n",
              "      <th>0</th>\n",
              "      <td>41</td>\n",
              "      <td>Yes</td>\n",
              "      <td>Travel_Rarely</td>\n",
              "      <td>Sales</td>\n",
              "      <td>1</td>\n",
              "      <td>2</td>\n",
              "      <td>Life Sciences</td>\n",
              "      <td>2</td>\n",
              "      <td>94</td>\n",
              "      <td>3</td>\n",
              "      <td>...</td>\n",
              "      <td>3</td>\n",
              "      <td>1</td>\n",
              "      <td>0</td>\n",
              "      <td>8</td>\n",
              "      <td>0</td>\n",
              "      <td>1</td>\n",
              "      <td>6</td>\n",
              "      <td>4</td>\n",
              "      <td>0</td>\n",
              "      <td>5</td>\n",
              "    </tr>\n",
              "    <tr>\n",
              "      <th>1</th>\n",
              "      <td>49</td>\n",
              "      <td>No</td>\n",
              "      <td>Travel_Frequently</td>\n",
              "      <td>Research &amp; Development</td>\n",
              "      <td>8</td>\n",
              "      <td>1</td>\n",
              "      <td>Life Sciences</td>\n",
              "      <td>3</td>\n",
              "      <td>61</td>\n",
              "      <td>2</td>\n",
              "      <td>...</td>\n",
              "      <td>4</td>\n",
              "      <td>4</td>\n",
              "      <td>1</td>\n",
              "      <td>10</td>\n",
              "      <td>3</td>\n",
              "      <td>3</td>\n",
              "      <td>10</td>\n",
              "      <td>7</td>\n",
              "      <td>1</td>\n",
              "      <td>7</td>\n",
              "    </tr>\n",
              "    <tr>\n",
              "      <th>2</th>\n",
              "      <td>37</td>\n",
              "      <td>Yes</td>\n",
              "      <td>Travel_Rarely</td>\n",
              "      <td>Research &amp; Development</td>\n",
              "      <td>2</td>\n",
              "      <td>2</td>\n",
              "      <td>Other</td>\n",
              "      <td>4</td>\n",
              "      <td>92</td>\n",
              "      <td>2</td>\n",
              "      <td>...</td>\n",
              "      <td>3</td>\n",
              "      <td>2</td>\n",
              "      <td>0</td>\n",
              "      <td>7</td>\n",
              "      <td>3</td>\n",
              "      <td>3</td>\n",
              "      <td>0</td>\n",
              "      <td>0</td>\n",
              "      <td>0</td>\n",
              "      <td>0</td>\n",
              "    </tr>\n",
              "    <tr>\n",
              "      <th>3</th>\n",
              "      <td>33</td>\n",
              "      <td>No</td>\n",
              "      <td>Travel_Frequently</td>\n",
              "      <td>Research &amp; Development</td>\n",
              "      <td>3</td>\n",
              "      <td>4</td>\n",
              "      <td>Life Sciences</td>\n",
              "      <td>4</td>\n",
              "      <td>56</td>\n",
              "      <td>3</td>\n",
              "      <td>...</td>\n",
              "      <td>3</td>\n",
              "      <td>3</td>\n",
              "      <td>0</td>\n",
              "      <td>8</td>\n",
              "      <td>3</td>\n",
              "      <td>3</td>\n",
              "      <td>8</td>\n",
              "      <td>7</td>\n",
              "      <td>3</td>\n",
              "      <td>0</td>\n",
              "    </tr>\n",
              "    <tr>\n",
              "      <th>4</th>\n",
              "      <td>27</td>\n",
              "      <td>No</td>\n",
              "      <td>Travel_Rarely</td>\n",
              "      <td>Research &amp; Development</td>\n",
              "      <td>2</td>\n",
              "      <td>1</td>\n",
              "      <td>Medical</td>\n",
              "      <td>1</td>\n",
              "      <td>40</td>\n",
              "      <td>3</td>\n",
              "      <td>...</td>\n",
              "      <td>3</td>\n",
              "      <td>4</td>\n",
              "      <td>1</td>\n",
              "      <td>6</td>\n",
              "      <td>3</td>\n",
              "      <td>3</td>\n",
              "      <td>2</td>\n",
              "      <td>2</td>\n",
              "      <td>2</td>\n",
              "      <td>2</td>\n",
              "    </tr>\n",
              "  </tbody>\n",
              "</table>\n",
              "<p>5 rows × 27 columns</p>\n",
              "</div>"
            ],
            "text/plain": [
              "   Age Attrition     BusinessTravel              Department  DistanceFromHome  \\\n",
              "0   41       Yes      Travel_Rarely                   Sales                 1   \n",
              "1   49        No  Travel_Frequently  Research & Development                 8   \n",
              "2   37       Yes      Travel_Rarely  Research & Development                 2   \n",
              "3   33        No  Travel_Frequently  Research & Development                 3   \n",
              "4   27        No      Travel_Rarely  Research & Development                 2   \n",
              "\n",
              "   Education EducationField  EnvironmentSatisfaction  HourlyRate  \\\n",
              "0          2  Life Sciences                        2          94   \n",
              "1          1  Life Sciences                        3          61   \n",
              "2          2          Other                        4          92   \n",
              "3          4  Life Sciences                        4          56   \n",
              "4          1        Medical                        1          40   \n",
              "\n",
              "   JobInvolvement  ...  PerformanceRating RelationshipSatisfaction  \\\n",
              "0               3  ...                  3                        1   \n",
              "1               2  ...                  4                        4   \n",
              "2               2  ...                  3                        2   \n",
              "3               3  ...                  3                        3   \n",
              "4               3  ...                  3                        4   \n",
              "\n",
              "   StockOptionLevel TotalWorkingYears  TrainingTimesLastYear WorkLifeBalance  \\\n",
              "0                 0                 8                      0               1   \n",
              "1                 1                10                      3               3   \n",
              "2                 0                 7                      3               3   \n",
              "3                 0                 8                      3               3   \n",
              "4                 1                 6                      3               3   \n",
              "\n",
              "   YearsAtCompany  YearsInCurrentRole  YearsSinceLastPromotion  \\\n",
              "0               6                   4                        0   \n",
              "1              10                   7                        1   \n",
              "2               0                   0                        0   \n",
              "3               8                   7                        3   \n",
              "4               2                   2                        2   \n",
              "\n",
              "   YearsWithCurrManager  \n",
              "0                     5  \n",
              "1                     7  \n",
              "2                     0  \n",
              "3                     0  \n",
              "4                     2  \n",
              "\n",
              "[5 rows x 27 columns]"
            ]
          },
          "execution_count": 1,
          "metadata": {},
          "output_type": "execute_result"
        }
      ],
      "source": [
        "# Import our dependencies\n",
        "from sklearn.model_selection import train_test_split\n",
        "from sklearn.preprocessing import StandardScaler\n",
        "import pandas as pd\n",
        "import numpy as np\n",
        "from tensorflow.keras.models import Model\n",
        "from tensorflow.keras import layers\n",
        "\n",
        "#  Import and read the attrition data\n",
        "attrition_df = pd.read_csv('https://static.bc-edx.com/ai/ail-v-1-0/m19/lms/datasets/attrition.csv')\n",
        "attrition_df.head()"
      ]
    },
    {
      "cell_type": "code",
      "execution_count": 2,
      "metadata": {
        "colab": {
          "base_uri": "https://localhost:8080/"
        },
        "id": "g22aQSY4Gc3Q",
        "outputId": "1f5c13c1-b981-4e40-a7ed-dd3fe6f1b81e"
      },
      "outputs": [
        {
          "data": {
            "text/plain": [
              "Age                         43\n",
              "Attrition                    2\n",
              "BusinessTravel               3\n",
              "Department                   3\n",
              "DistanceFromHome            29\n",
              "Education                    5\n",
              "EducationField               6\n",
              "EnvironmentSatisfaction      4\n",
              "HourlyRate                  71\n",
              "JobInvolvement               4\n",
              "JobLevel                     5\n",
              "JobRole                      9\n",
              "JobSatisfaction              4\n",
              "MaritalStatus                3\n",
              "NumCompaniesWorked          10\n",
              "OverTime                     2\n",
              "PercentSalaryHike           15\n",
              "PerformanceRating            2\n",
              "RelationshipSatisfaction     4\n",
              "StockOptionLevel             4\n",
              "TotalWorkingYears           40\n",
              "TrainingTimesLastYear        7\n",
              "WorkLifeBalance              4\n",
              "YearsAtCompany              37\n",
              "YearsInCurrentRole          19\n",
              "YearsSinceLastPromotion     16\n",
              "YearsWithCurrManager        18\n",
              "dtype: int64"
            ]
          },
          "execution_count": 2,
          "metadata": {},
          "output_type": "execute_result"
        }
      ],
      "source": [
        "# Determine the number of unique values in each column.\n",
        "attrition_df.nunique()"
      ]
    },
    {
      "cell_type": "code",
      "execution_count": 3,
      "metadata": {
        "id": "50vMgBEnJbfM"
      },
      "outputs": [],
      "source": [
        "# Create y_df with the Attrition and Department columns\n",
        "y_df = attrition_df[['Attrition', 'Department']]\n"
      ]
    },
    {
      "cell_type": "code",
      "execution_count": 4,
      "metadata": {
        "colab": {
          "base_uri": "https://localhost:8080/"
        },
        "id": "Virka0zLGc3R",
        "outputId": "dd5aee3a-9458-4ba6-e857-1b234de40915"
      },
      "outputs": [
        {
          "name": "stdout",
          "output_type": "stream",
          "text": [
            "Age                      int64\n",
            "DistanceFromHome         int64\n",
            "Education                int64\n",
            "JobInvolvement           int64\n",
            "HourlyRate               int64\n",
            "TotalWorkingYears        int64\n",
            "YearsAtCompany           int64\n",
            "NumCompaniesWorked       int64\n",
            "TrainingTimesLastYear    int64\n",
            "PercentSalaryHike        int64\n",
            "dtype: object\n"
          ]
        }
      ],
      "source": [
        "# Create a list of at least 10 column names to use as X data\n",
        "feature_columns = [\n",
        "    'Age', 'DistanceFromHome', 'Education', 'JobInvolvement',\n",
        "    'HourlyRate', 'TotalWorkingYears', 'YearsAtCompany',\n",
        "    'NumCompaniesWorked', 'TrainingTimesLastYear', 'PercentSalaryHike'\n",
        "]\n",
        "\n",
        "\n",
        "# Create X_df using your selected columns\n",
        "X_df = attrition_df[feature_columns]\n",
        "\n",
        "# Show the data types for X_df\n",
        "print(X_df.dtypes)\n"
      ]
    },
    {
      "cell_type": "code",
      "execution_count": 5,
      "metadata": {
        "id": "KaJfdOGUMHMR"
      },
      "outputs": [
        {
          "name": "stdout",
          "output_type": "stream",
          "text": [
            "Training features shape: (1176, 10)\n",
            "Testing features shape: (294, 10)\n",
            "Training labels shape: (1176, 2)\n",
            "Testing labels shape: (294, 2)\n"
          ]
        }
      ],
      "source": [
        "# Split the data into training and testing sets\n",
        "from sklearn.model_selection import train_test_split\n",
        "\n",
        "# Splitting the dataset into training and testing sets\n",
        "X_train, X_test, y_train, y_test = train_test_split(\n",
        "    X_df, y_df, test_size=0.2, random_state=42\n",
        ")\n",
        "\n",
        "# Display the shapes of the resulting splits\n",
        "print(\"Training features shape:\", X_train.shape)\n",
        "print(\"Testing features shape:\", X_test.shape)\n",
        "print(\"Training labels shape:\", y_train.shape)\n",
        "print(\"Testing labels shape:\", y_test.shape)"
      ]
    },
    {
      "cell_type": "code",
      "execution_count": 6,
      "metadata": {
        "colab": {
          "base_uri": "https://localhost:8080/"
        },
        "id": "NYubUJqiLCSp",
        "outputId": "53f31721-571c-4c94-d13e-25a715749593"
      },
      "outputs": [],
      "source": [
        "# Convert your X data to numeric data types however you see fit\n",
        "# Add new code cells as necessary\n"
      ]
    },
    {
      "cell_type": "code",
      "execution_count": 7,
      "metadata": {
        "id": "EWA-aIA5Gc3T"
      },
      "outputs": [],
      "source": [
        "# Create a StandardScaler\n",
        "scaler = StandardScaler()\n",
        "\n",
        "# Fit the StandardScaler to the training data\n",
        "X_train_scaled = scaler.fit_transform(X_train)\n",
        "\n",
        "# Scale the training and testing data\n",
        "\n",
        "X_train_scaled = scaler.transform(X_train)\n",
        "X_test_scaled = scaler.transform(X_test)\n",
        "\n"
      ]
    },
    {
      "cell_type": "code",
      "execution_count": 8,
      "metadata": {
        "colab": {
          "base_uri": "https://localhost:8080/"
        },
        "id": "-z0Mky8vQSz4",
        "outputId": "debefc85-c20b-48f5-f4d9-91eadd65d36a"
      },
      "outputs": [
        {
          "name": "stdout",
          "output_type": "stream",
          "text": [
            "Encoded department - training data shape: (1176, 3)\n",
            "Encoded department - testing data shape: (294, 3)\n"
          ]
        }
      ],
      "source": [
        "from sklearn.preprocessing import OneHotEncoder\n",
        "\n",
        "# Create a OneHotEncoder for the Department column\n",
        "encoder = OneHotEncoder()\n",
        "\n",
        "# Fit the encoder to the training data\n",
        "encoder.fit(y_train[['Department']])\n",
        "\n",
        "# Transform the 'Department' column of both training and testing data and convert to dense format\n",
        "y_train_department_encoded = encoder.transform(y_train[['Department']]).toarray()\n",
        "y_test_department_encoded = encoder.transform(y_test[['Department']]).toarray()\n",
        "\n",
        "\n",
        "# Testing the data\n",
        "print(\"Encoded department - training data shape:\", y_train_department_encoded.shape)\n",
        "print(\"Encoded department - testing data shape:\", y_test_department_encoded.shape)\n"
      ]
    },
    {
      "cell_type": "code",
      "execution_count": 9,
      "metadata": {
        "colab": {
          "base_uri": "https://localhost:8080/"
        },
        "id": "-G4DSpvFRrk4",
        "outputId": "9842e948-8a55-4b80-8fac-f96714e85589"
      },
      "outputs": [
        {
          "name": "stdout",
          "output_type": "stream",
          "text": [
            "Binary encoded attrition - training data (first 5 rows):\n",
            " 1097    0\n",
            "727     0\n",
            "254     0\n",
            "1175    0\n",
            "1341    0\n",
            "       ..\n",
            "1130    0\n",
            "1294    0\n",
            "860     1\n",
            "1459    0\n",
            "1126    0\n",
            "Name: Attrition, Length: 1176, dtype: int64 \n",
            "\n",
            "Binary encoded attrition - testing data (first 5 rows):\n",
            " 1041    0\n",
            "184     0\n",
            "1222    1\n",
            "67      0\n",
            "220     0\n",
            "       ..\n",
            "567     0\n",
            "560     0\n",
            "945     0\n",
            "522     0\n",
            "651     0\n",
            "Name: Attrition, Length: 294, dtype: int64\n"
          ]
        }
      ],
      "source": [
        "# Instead of using OneHotEncoder for the Attrition column, directly convert 'Yes'/'No' into binary format (0 and 1)\n",
        "y_train_attrition_binary = (y_train['Attrition'] == 'Yes').astype(int)\n",
        "y_test_attrition_binary = (y_test['Attrition'] == 'Yes').astype(int)\n",
        "\n",
        "# Let's get a peek at the binary encoded attrition data\n",
        "print(\"Binary encoded attrition - training data (first 5 rows):\\n\", y_train_attrition_binary,\n",
        "      \"\\n\\nBinary encoded attrition - testing data (first 5 rows):\\n\", y_test_attrition_binary)\n",
        "\n"
      ]
    },
    {
      "cell_type": "markdown",
      "metadata": {
        "id": "ykNmu_WWGc3T"
      },
      "source": [
        "## Create, Compile, and Train the Model"
      ]
    },
    {
      "cell_type": "code",
      "execution_count": 10,
      "metadata": {
        "id": "WUptZqmSGc3T"
      },
      "outputs": [
        {
          "name": "stdout",
          "output_type": "stream",
          "text": [
            "Number of features: 10\n"
          ]
        }
      ],
      "source": [
        "# Find the number of columns in the X training data\n",
        "num_features = X_train_scaled.shape[1]\n",
        "print(\"Number of features:\", num_features)\n",
        "\n",
        "from tensorflow.keras.layers import Input, Dense\n",
        "from tensorflow.keras.models import Model\n",
        "\n",
        "# Create the input layer\n",
        "input_layer = Input(shape=(num_features,))\n",
        "\n",
        "# Create two shared dense layers\n",
        "shared_dense1 = Dense(64, activation='relu')(input_layer)  # First shared layer with 64 units\n",
        "shared_dense2 = Dense(32, activation='relu')(shared_dense1)  # Second shared layer with 32 units\n",
        "# shared_dense3 = Dense(32, activation='relu')(shared_dense2)  # Third shared layer with 32 units"
      ]
    },
    {
      "cell_type": "code",
      "execution_count": 11,
      "metadata": {
        "id": "JukjTm2yTEqd"
      },
      "outputs": [],
      "source": [
        "# Create a branch for Department\n",
        "# with a hidden layer and an output layer\n",
        "# Adding a hidden layer specific to the Department prediction\n",
        "department_hidden = Dense(32, activation='relu')(shared_dense2)\n",
        "\n",
        "# Assuming the number of unique departments is known and stored as num_departments\n",
        "num_departments = y_train_department_encoded.shape[1]\n",
        "\n",
        "# Creating the output layer for the Department classification\n",
        "department_output = Dense(num_departments, activation='softmax')(department_hidden)\n",
        "\n",
        "# Create the hidden layer\n",
        "num_departments = y_train_department_encoded.shape[1]\n",
        "\n",
        "# Create the output layer\n",
        "department_output = Dense(num_departments, activation='softmax', name='department_output')(department_hidden)\n",
        "\n",
        "# Assuming you have stored your layer instances like this:\n",
        "department_hidden_layer = Dense(32, activation='relu')\n",
        "department_output_layer = Dense(num_departments, activation='softmax')\n",
        "\n"
      ]
    },
    {
      "cell_type": "code",
      "execution_count": 12,
      "metadata": {
        "id": "9OqhUiOJUBkR"
      },
      "outputs": [],
      "source": [
        "# Create a branch for Attrition\n",
        "# with a hidden layer and an output layer\n",
        "\n",
        "# Create the hidden layer\n",
        "attrition_hidden = Dense(32, activation='relu')(shared_dense2)\n",
        "\n",
        "# Create the output layer\n",
        "attrition_output = Dense(1, activation='sigmoid', name='attrition_output')(attrition_hidden)\n"
      ]
    },
    {
      "cell_type": "code",
      "execution_count": 13,
      "metadata": {
        "colab": {
          "base_uri": "https://localhost:8080/"
        },
        "id": "twmuejdxGc3T",
        "outputId": "25096308-b68b-42e4-e4ea-ae82e97c435a"
      },
      "outputs": [
        {
          "data": {
            "text/html": [
              "<pre style=\"white-space:pre;overflow-x:auto;line-height:normal;font-family:Menlo,'DejaVu Sans Mono',consolas,'Courier New',monospace\"><span style=\"font-weight: bold\">Model: \"functional_1\"</span>\n",
              "</pre>\n"
            ],
            "text/plain": [
              "\u001b[1mModel: \"functional_1\"\u001b[0m\n"
            ]
          },
          "metadata": {},
          "output_type": "display_data"
        },
        {
          "data": {
            "text/html": [
              "<pre style=\"white-space:pre;overflow-x:auto;line-height:normal;font-family:Menlo,'DejaVu Sans Mono',consolas,'Courier New',monospace\">┏━━━━━━━━━━━━━━━━━━━━━┳━━━━━━━━━━━━━━━━━━━┳━━━━━━━━━━━━┳━━━━━━━━━━━━━━━━━━━┓\n",
              "┃<span style=\"font-weight: bold\"> Layer (type)        </span>┃<span style=\"font-weight: bold\"> Output Shape      </span>┃<span style=\"font-weight: bold\">    Param # </span>┃<span style=\"font-weight: bold\"> Connected to      </span>┃\n",
              "┡━━━━━━━━━━━━━━━━━━━━━╇━━━━━━━━━━━━━━━━━━━╇━━━━━━━━━━━━╇━━━━━━━━━━━━━━━━━━━┩\n",
              "│ input_layer         │ (<span style=\"color: #00d7ff; text-decoration-color: #00d7ff\">None</span>, <span style=\"color: #00af00; text-decoration-color: #00af00\">10</span>)        │          <span style=\"color: #00af00; text-decoration-color: #00af00\">0</span> │ -                 │\n",
              "│ (<span style=\"color: #0087ff; text-decoration-color: #0087ff\">InputLayer</span>)        │                   │            │                   │\n",
              "├─────────────────────┼───────────────────┼────────────┼───────────────────┤\n",
              "│ dense (<span style=\"color: #0087ff; text-decoration-color: #0087ff\">Dense</span>)       │ (<span style=\"color: #00d7ff; text-decoration-color: #00d7ff\">None</span>, <span style=\"color: #00af00; text-decoration-color: #00af00\">64</span>)        │        <span style=\"color: #00af00; text-decoration-color: #00af00\">704</span> │ input_layer[<span style=\"color: #00af00; text-decoration-color: #00af00\">0</span>][<span style=\"color: #00af00; text-decoration-color: #00af00\">0</span>] │\n",
              "├─────────────────────┼───────────────────┼────────────┼───────────────────┤\n",
              "│ dense_1 (<span style=\"color: #0087ff; text-decoration-color: #0087ff\">Dense</span>)     │ (<span style=\"color: #00d7ff; text-decoration-color: #00d7ff\">None</span>, <span style=\"color: #00af00; text-decoration-color: #00af00\">32</span>)        │      <span style=\"color: #00af00; text-decoration-color: #00af00\">2,080</span> │ dense[<span style=\"color: #00af00; text-decoration-color: #00af00\">0</span>][<span style=\"color: #00af00; text-decoration-color: #00af00\">0</span>]       │\n",
              "├─────────────────────┼───────────────────┼────────────┼───────────────────┤\n",
              "│ dense_2 (<span style=\"color: #0087ff; text-decoration-color: #0087ff\">Dense</span>)     │ (<span style=\"color: #00d7ff; text-decoration-color: #00d7ff\">None</span>, <span style=\"color: #00af00; text-decoration-color: #00af00\">32</span>)        │      <span style=\"color: #00af00; text-decoration-color: #00af00\">1,056</span> │ dense_1[<span style=\"color: #00af00; text-decoration-color: #00af00\">0</span>][<span style=\"color: #00af00; text-decoration-color: #00af00\">0</span>]     │\n",
              "├─────────────────────┼───────────────────┼────────────┼───────────────────┤\n",
              "│ dense_6 (<span style=\"color: #0087ff; text-decoration-color: #0087ff\">Dense</span>)     │ (<span style=\"color: #00d7ff; text-decoration-color: #00d7ff\">None</span>, <span style=\"color: #00af00; text-decoration-color: #00af00\">32</span>)        │      <span style=\"color: #00af00; text-decoration-color: #00af00\">1,056</span> │ dense_1[<span style=\"color: #00af00; text-decoration-color: #00af00\">0</span>][<span style=\"color: #00af00; text-decoration-color: #00af00\">0</span>]     │\n",
              "├─────────────────────┼───────────────────┼────────────┼───────────────────┤\n",
              "│ department_output   │ (<span style=\"color: #00d7ff; text-decoration-color: #00d7ff\">None</span>, <span style=\"color: #00af00; text-decoration-color: #00af00\">3</span>)         │         <span style=\"color: #00af00; text-decoration-color: #00af00\">99</span> │ dense_2[<span style=\"color: #00af00; text-decoration-color: #00af00\">0</span>][<span style=\"color: #00af00; text-decoration-color: #00af00\">0</span>]     │\n",
              "│ (<span style=\"color: #0087ff; text-decoration-color: #0087ff\">Dense</span>)             │                   │            │                   │\n",
              "├─────────────────────┼───────────────────┼────────────┼───────────────────┤\n",
              "│ attrition_output    │ (<span style=\"color: #00d7ff; text-decoration-color: #00d7ff\">None</span>, <span style=\"color: #00af00; text-decoration-color: #00af00\">1</span>)         │         <span style=\"color: #00af00; text-decoration-color: #00af00\">33</span> │ dense_6[<span style=\"color: #00af00; text-decoration-color: #00af00\">0</span>][<span style=\"color: #00af00; text-decoration-color: #00af00\">0</span>]     │\n",
              "│ (<span style=\"color: #0087ff; text-decoration-color: #0087ff\">Dense</span>)             │                   │            │                   │\n",
              "└─────────────────────┴───────────────────┴────────────┴───────────────────┘\n",
              "</pre>\n"
            ],
            "text/plain": [
              "┏━━━━━━━━━━━━━━━━━━━━━┳━━━━━━━━━━━━━━━━━━━┳━━━━━━━━━━━━┳━━━━━━━━━━━━━━━━━━━┓\n",
              "┃\u001b[1m \u001b[0m\u001b[1mLayer (type)       \u001b[0m\u001b[1m \u001b[0m┃\u001b[1m \u001b[0m\u001b[1mOutput Shape     \u001b[0m\u001b[1m \u001b[0m┃\u001b[1m \u001b[0m\u001b[1m   Param #\u001b[0m\u001b[1m \u001b[0m┃\u001b[1m \u001b[0m\u001b[1mConnected to     \u001b[0m\u001b[1m \u001b[0m┃\n",
              "┡━━━━━━━━━━━━━━━━━━━━━╇━━━━━━━━━━━━━━━━━━━╇━━━━━━━━━━━━╇━━━━━━━━━━━━━━━━━━━┩\n",
              "│ input_layer         │ (\u001b[38;5;45mNone\u001b[0m, \u001b[38;5;34m10\u001b[0m)        │          \u001b[38;5;34m0\u001b[0m │ -                 │\n",
              "│ (\u001b[38;5;33mInputLayer\u001b[0m)        │                   │            │                   │\n",
              "├─────────────────────┼───────────────────┼────────────┼───────────────────┤\n",
              "│ dense (\u001b[38;5;33mDense\u001b[0m)       │ (\u001b[38;5;45mNone\u001b[0m, \u001b[38;5;34m64\u001b[0m)        │        \u001b[38;5;34m704\u001b[0m │ input_layer[\u001b[38;5;34m0\u001b[0m][\u001b[38;5;34m0\u001b[0m] │\n",
              "├─────────────────────┼───────────────────┼────────────┼───────────────────┤\n",
              "│ dense_1 (\u001b[38;5;33mDense\u001b[0m)     │ (\u001b[38;5;45mNone\u001b[0m, \u001b[38;5;34m32\u001b[0m)        │      \u001b[38;5;34m2,080\u001b[0m │ dense[\u001b[38;5;34m0\u001b[0m][\u001b[38;5;34m0\u001b[0m]       │\n",
              "├─────────────────────┼───────────────────┼────────────┼───────────────────┤\n",
              "│ dense_2 (\u001b[38;5;33mDense\u001b[0m)     │ (\u001b[38;5;45mNone\u001b[0m, \u001b[38;5;34m32\u001b[0m)        │      \u001b[38;5;34m1,056\u001b[0m │ dense_1[\u001b[38;5;34m0\u001b[0m][\u001b[38;5;34m0\u001b[0m]     │\n",
              "├─────────────────────┼───────────────────┼────────────┼───────────────────┤\n",
              "│ dense_6 (\u001b[38;5;33mDense\u001b[0m)     │ (\u001b[38;5;45mNone\u001b[0m, \u001b[38;5;34m32\u001b[0m)        │      \u001b[38;5;34m1,056\u001b[0m │ dense_1[\u001b[38;5;34m0\u001b[0m][\u001b[38;5;34m0\u001b[0m]     │\n",
              "├─────────────────────┼───────────────────┼────────────┼───────────────────┤\n",
              "│ department_output   │ (\u001b[38;5;45mNone\u001b[0m, \u001b[38;5;34m3\u001b[0m)         │         \u001b[38;5;34m99\u001b[0m │ dense_2[\u001b[38;5;34m0\u001b[0m][\u001b[38;5;34m0\u001b[0m]     │\n",
              "│ (\u001b[38;5;33mDense\u001b[0m)             │                   │            │                   │\n",
              "├─────────────────────┼───────────────────┼────────────┼───────────────────┤\n",
              "│ attrition_output    │ (\u001b[38;5;45mNone\u001b[0m, \u001b[38;5;34m1\u001b[0m)         │         \u001b[38;5;34m33\u001b[0m │ dense_6[\u001b[38;5;34m0\u001b[0m][\u001b[38;5;34m0\u001b[0m]     │\n",
              "│ (\u001b[38;5;33mDense\u001b[0m)             │                   │            │                   │\n",
              "└─────────────────────┴───────────────────┴────────────┴───────────────────┘\n"
            ]
          },
          "metadata": {},
          "output_type": "display_data"
        },
        {
          "data": {
            "text/html": [
              "<pre style=\"white-space:pre;overflow-x:auto;line-height:normal;font-family:Menlo,'DejaVu Sans Mono',consolas,'Courier New',monospace\"><span style=\"font-weight: bold\"> Total params: </span><span style=\"color: #00af00; text-decoration-color: #00af00\">5,028</span> (19.64 KB)\n",
              "</pre>\n"
            ],
            "text/plain": [
              "\u001b[1m Total params: \u001b[0m\u001b[38;5;34m5,028\u001b[0m (19.64 KB)\n"
            ]
          },
          "metadata": {},
          "output_type": "display_data"
        },
        {
          "data": {
            "text/html": [
              "<pre style=\"white-space:pre;overflow-x:auto;line-height:normal;font-family:Menlo,'DejaVu Sans Mono',consolas,'Courier New',monospace\"><span style=\"font-weight: bold\"> Trainable params: </span><span style=\"color: #00af00; text-decoration-color: #00af00\">5,028</span> (19.64 KB)\n",
              "</pre>\n"
            ],
            "text/plain": [
              "\u001b[1m Trainable params: \u001b[0m\u001b[38;5;34m5,028\u001b[0m (19.64 KB)\n"
            ]
          },
          "metadata": {},
          "output_type": "display_data"
        },
        {
          "data": {
            "text/html": [
              "<pre style=\"white-space:pre;overflow-x:auto;line-height:normal;font-family:Menlo,'DejaVu Sans Mono',consolas,'Courier New',monospace\"><span style=\"font-weight: bold\"> Non-trainable params: </span><span style=\"color: #00af00; text-decoration-color: #00af00\">0</span> (0.00 B)\n",
              "</pre>\n"
            ],
            "text/plain": [
              "\u001b[1m Non-trainable params: \u001b[0m\u001b[38;5;34m0\u001b[0m (0.00 B)\n"
            ]
          },
          "metadata": {},
          "output_type": "display_data"
        }
      ],
      "source": [
        "# Create the model\n",
        "model = Model(inputs=input_layer, outputs=[department_output, attrition_output])\n",
        "\n",
        "# Compile the model\n",
        "model.compile(\n",
        "    optimizer='adam',\n",
        "    loss={\n",
        "        'department_output': 'categorical_crossentropy',  # Ensure names match those in the model\n",
        "        'attrition_output': 'binary_crossentropy'\n",
        "    },\n",
        "    metrics={\n",
        "        'department_output': ['accuracy'],\n",
        "        'attrition_output': ['accuracy']\n",
        "    }\n",
        ")\n",
        "\n",
        "\n",
        "\n",
        "\n",
        "# Summarize the model\n",
        "model.summary()\n"
      ]
    },
    {
      "cell_type": "code",
      "execution_count": 14,
      "metadata": {
        "colab": {
          "base_uri": "https://localhost:8080/"
        },
        "id": "c8oGy0dpGc3U",
        "outputId": "cc667d43-28cf-42d4-d719-c2bc02888d30"
      },
      "outputs": [
        {
          "name": "stdout",
          "output_type": "stream",
          "text": [
            "Epoch 1/75\n"
          ]
        },
        {
          "name": "stdout",
          "output_type": "stream",
          "text": [
            "30/30 - 3s - 92ms/step - attrition_output_accuracy: 0.8404 - department_output_accuracy: 0.5691 - loss: 1.4726 - val_attrition_output_accuracy: 0.7966 - val_department_output_accuracy: 0.6314 - val_loss: 1.3550\n",
            "Epoch 2/75\n",
            "30/30 - 0s - 3ms/step - attrition_output_accuracy: 0.8404 - department_output_accuracy: 0.6553 - loss: 1.2542 - val_attrition_output_accuracy: 0.7966 - val_department_output_accuracy: 0.6314 - val_loss: 1.2777\n",
            "Epoch 3/75\n",
            "30/30 - 0s - 4ms/step - attrition_output_accuracy: 0.8404 - department_output_accuracy: 0.6553 - loss: 1.2065 - val_attrition_output_accuracy: 0.7966 - val_department_output_accuracy: 0.6314 - val_loss: 1.2652\n",
            "Epoch 4/75\n",
            "30/30 - 0s - 4ms/step - attrition_output_accuracy: 0.8404 - department_output_accuracy: 0.6553 - loss: 1.1867 - val_attrition_output_accuracy: 0.7966 - val_department_output_accuracy: 0.6314 - val_loss: 1.2612\n",
            "Epoch 5/75\n",
            "30/30 - 0s - 3ms/step - attrition_output_accuracy: 0.8404 - department_output_accuracy: 0.6553 - loss: 1.1795 - val_attrition_output_accuracy: 0.7966 - val_department_output_accuracy: 0.6314 - val_loss: 1.2589\n",
            "Epoch 6/75\n",
            "30/30 - 0s - 3ms/step - attrition_output_accuracy: 0.8404 - department_output_accuracy: 0.6553 - loss: 1.1656 - val_attrition_output_accuracy: 0.7966 - val_department_output_accuracy: 0.6314 - val_loss: 1.2556\n",
            "Epoch 7/75\n",
            "30/30 - 0s - 3ms/step - attrition_output_accuracy: 0.8436 - department_output_accuracy: 0.6543 - loss: 1.1617 - val_attrition_output_accuracy: 0.7966 - val_department_output_accuracy: 0.6314 - val_loss: 1.2644\n",
            "Epoch 8/75\n",
            "30/30 - 0s - 3ms/step - attrition_output_accuracy: 0.8447 - department_output_accuracy: 0.6574 - loss: 1.1496 - val_attrition_output_accuracy: 0.8008 - val_department_output_accuracy: 0.6271 - val_loss: 1.2564\n",
            "Epoch 9/75\n",
            "30/30 - 0s - 3ms/step - attrition_output_accuracy: 0.8457 - department_output_accuracy: 0.6553 - loss: 1.1255 - val_attrition_output_accuracy: 0.7966 - val_department_output_accuracy: 0.6314 - val_loss: 1.2779\n",
            "Epoch 10/75\n",
            "30/30 - 0s - 3ms/step - attrition_output_accuracy: 0.8426 - department_output_accuracy: 0.6564 - loss: 1.1233 - val_attrition_output_accuracy: 0.8093 - val_department_output_accuracy: 0.6229 - val_loss: 1.2568\n",
            "Epoch 11/75\n",
            "30/30 - 0s - 3ms/step - attrition_output_accuracy: 0.8457 - department_output_accuracy: 0.6606 - loss: 1.1178 - val_attrition_output_accuracy: 0.8093 - val_department_output_accuracy: 0.6271 - val_loss: 1.2608\n",
            "Epoch 12/75\n",
            "30/30 - 0s - 4ms/step - attrition_output_accuracy: 0.8511 - department_output_accuracy: 0.6660 - loss: 1.1020 - val_attrition_output_accuracy: 0.8051 - val_department_output_accuracy: 0.6271 - val_loss: 1.2742\n",
            "Epoch 13/75\n",
            "30/30 - 0s - 4ms/step - attrition_output_accuracy: 0.8468 - department_output_accuracy: 0.6628 - loss: 1.1043 - val_attrition_output_accuracy: 0.8093 - val_department_output_accuracy: 0.6229 - val_loss: 1.2673\n",
            "Epoch 14/75\n",
            "30/30 - 0s - 4ms/step - attrition_output_accuracy: 0.8447 - department_output_accuracy: 0.6691 - loss: 1.0965 - val_attrition_output_accuracy: 0.8093 - val_department_output_accuracy: 0.6271 - val_loss: 1.2694\n",
            "Epoch 15/75\n",
            "30/30 - 0s - 4ms/step - attrition_output_accuracy: 0.8532 - department_output_accuracy: 0.6670 - loss: 1.0912 - val_attrition_output_accuracy: 0.8051 - val_department_output_accuracy: 0.6102 - val_loss: 1.2813\n",
            "Epoch 16/75\n",
            "30/30 - 0s - 3ms/step - attrition_output_accuracy: 0.8511 - department_output_accuracy: 0.6691 - loss: 1.0699 - val_attrition_output_accuracy: 0.8008 - val_department_output_accuracy: 0.6102 - val_loss: 1.2774\n",
            "Epoch 17/75\n",
            "30/30 - 0s - 4ms/step - attrition_output_accuracy: 0.8521 - department_output_accuracy: 0.6755 - loss: 1.0631 - val_attrition_output_accuracy: 0.8136 - val_department_output_accuracy: 0.6102 - val_loss: 1.2865\n",
            "Epoch 18/75\n",
            "30/30 - 0s - 3ms/step - attrition_output_accuracy: 0.8500 - department_output_accuracy: 0.6851 - loss: 1.0588 - val_attrition_output_accuracy: 0.8220 - val_department_output_accuracy: 0.5890 - val_loss: 1.2878\n",
            "Epoch 19/75\n",
            "30/30 - 0s - 3ms/step - attrition_output_accuracy: 0.8521 - department_output_accuracy: 0.6660 - loss: 1.0534 - val_attrition_output_accuracy: 0.8178 - val_department_output_accuracy: 0.5847 - val_loss: 1.2956\n",
            "Epoch 20/75\n",
            "30/30 - 0s - 3ms/step - attrition_output_accuracy: 0.8457 - department_output_accuracy: 0.6904 - loss: 1.0425 - val_attrition_output_accuracy: 0.8008 - val_department_output_accuracy: 0.5932 - val_loss: 1.2962\n",
            "Epoch 21/75\n",
            "30/30 - 0s - 3ms/step - attrition_output_accuracy: 0.8564 - department_output_accuracy: 0.6862 - loss: 1.0368 - val_attrition_output_accuracy: 0.7924 - val_department_output_accuracy: 0.6144 - val_loss: 1.3149\n",
            "Epoch 22/75\n",
            "30/30 - 0s - 3ms/step - attrition_output_accuracy: 0.8564 - department_output_accuracy: 0.6947 - loss: 1.0354 - val_attrition_output_accuracy: 0.7966 - val_department_output_accuracy: 0.5890 - val_loss: 1.3154\n",
            "Epoch 23/75\n",
            "30/30 - 0s - 3ms/step - attrition_output_accuracy: 0.8532 - department_output_accuracy: 0.6809 - loss: 1.0227 - val_attrition_output_accuracy: 0.8051 - val_department_output_accuracy: 0.5932 - val_loss: 1.3142\n",
            "Epoch 24/75\n",
            "30/30 - 0s - 3ms/step - attrition_output_accuracy: 0.8574 - department_output_accuracy: 0.7011 - loss: 1.0047 - val_attrition_output_accuracy: 0.8008 - val_department_output_accuracy: 0.5847 - val_loss: 1.3229\n",
            "Epoch 25/75\n",
            "30/30 - 0s - 3ms/step - attrition_output_accuracy: 0.8638 - department_output_accuracy: 0.7021 - loss: 0.9998 - val_attrition_output_accuracy: 0.8008 - val_department_output_accuracy: 0.5975 - val_loss: 1.3277\n",
            "Epoch 26/75\n",
            "30/30 - 0s - 3ms/step - attrition_output_accuracy: 0.8606 - department_output_accuracy: 0.7043 - loss: 0.9942 - val_attrition_output_accuracy: 0.7712 - val_department_output_accuracy: 0.5847 - val_loss: 1.3362\n",
            "Epoch 27/75\n",
            "30/30 - 0s - 3ms/step - attrition_output_accuracy: 0.8649 - department_output_accuracy: 0.7106 - loss: 0.9700 - val_attrition_output_accuracy: 0.7881 - val_department_output_accuracy: 0.6017 - val_loss: 1.3470\n",
            "Epoch 28/75\n",
            "30/30 - 0s - 3ms/step - attrition_output_accuracy: 0.8638 - department_output_accuracy: 0.7096 - loss: 0.9644 - val_attrition_output_accuracy: 0.7797 - val_department_output_accuracy: 0.5932 - val_loss: 1.3683\n",
            "Epoch 29/75\n",
            "30/30 - 0s - 3ms/step - attrition_output_accuracy: 0.8670 - department_output_accuracy: 0.7064 - loss: 0.9564 - val_attrition_output_accuracy: 0.7881 - val_department_output_accuracy: 0.5975 - val_loss: 1.3796\n",
            "Epoch 30/75\n",
            "30/30 - 0s - 3ms/step - attrition_output_accuracy: 0.8617 - department_output_accuracy: 0.7160 - loss: 0.9466 - val_attrition_output_accuracy: 0.7797 - val_department_output_accuracy: 0.5890 - val_loss: 1.3765\n",
            "Epoch 31/75\n",
            "30/30 - 0s - 3ms/step - attrition_output_accuracy: 0.8660 - department_output_accuracy: 0.7181 - loss: 0.9464 - val_attrition_output_accuracy: 0.7754 - val_department_output_accuracy: 0.5763 - val_loss: 1.3732\n",
            "Epoch 32/75\n",
            "30/30 - 0s - 3ms/step - attrition_output_accuracy: 0.8713 - department_output_accuracy: 0.7117 - loss: 0.9257 - val_attrition_output_accuracy: 0.7797 - val_department_output_accuracy: 0.5847 - val_loss: 1.3895\n",
            "Epoch 33/75\n",
            "30/30 - 0s - 3ms/step - attrition_output_accuracy: 0.8734 - department_output_accuracy: 0.7340 - loss: 0.9125 - val_attrition_output_accuracy: 0.7754 - val_department_output_accuracy: 0.5805 - val_loss: 1.4084\n",
            "Epoch 34/75\n",
            "30/30 - 0s - 3ms/step - attrition_output_accuracy: 0.8787 - department_output_accuracy: 0.7330 - loss: 0.8936 - val_attrition_output_accuracy: 0.7669 - val_department_output_accuracy: 0.5678 - val_loss: 1.4255\n",
            "Epoch 35/75\n",
            "30/30 - 0s - 3ms/step - attrition_output_accuracy: 0.8734 - department_output_accuracy: 0.7457 - loss: 0.8939 - val_attrition_output_accuracy: 0.7585 - val_department_output_accuracy: 0.5890 - val_loss: 1.4245\n",
            "Epoch 36/75\n",
            "30/30 - 0s - 4ms/step - attrition_output_accuracy: 0.8840 - department_output_accuracy: 0.7394 - loss: 0.8743 - val_attrition_output_accuracy: 0.7712 - val_department_output_accuracy: 0.5127 - val_loss: 1.4415\n",
            "Epoch 37/75\n",
            "30/30 - 0s - 4ms/step - attrition_output_accuracy: 0.8766 - department_output_accuracy: 0.7489 - loss: 0.8704 - val_attrition_output_accuracy: 0.7797 - val_department_output_accuracy: 0.5678 - val_loss: 1.4391\n",
            "Epoch 38/75\n",
            "30/30 - 0s - 4ms/step - attrition_output_accuracy: 0.8755 - department_output_accuracy: 0.7617 - loss: 0.8642 - val_attrition_output_accuracy: 0.7669 - val_department_output_accuracy: 0.5763 - val_loss: 1.4740\n",
            "Epoch 39/75\n",
            "30/30 - 0s - 4ms/step - attrition_output_accuracy: 0.8819 - department_output_accuracy: 0.7511 - loss: 0.8488 - val_attrition_output_accuracy: 0.7585 - val_department_output_accuracy: 0.5508 - val_loss: 1.4609\n",
            "Epoch 40/75\n",
            "30/30 - 0s - 3ms/step - attrition_output_accuracy: 0.8777 - department_output_accuracy: 0.7585 - loss: 0.8348 - val_attrition_output_accuracy: 0.7627 - val_department_output_accuracy: 0.5720 - val_loss: 1.4806\n",
            "Epoch 41/75\n",
            "30/30 - 0s - 5ms/step - attrition_output_accuracy: 0.8840 - department_output_accuracy: 0.7564 - loss: 0.8341 - val_attrition_output_accuracy: 0.7627 - val_department_output_accuracy: 0.5678 - val_loss: 1.5042\n",
            "Epoch 42/75\n",
            "30/30 - 0s - 3ms/step - attrition_output_accuracy: 0.8904 - department_output_accuracy: 0.7606 - loss: 0.8132 - val_attrition_output_accuracy: 0.7627 - val_department_output_accuracy: 0.5636 - val_loss: 1.5170\n",
            "Epoch 43/75\n",
            "30/30 - 0s - 6ms/step - attrition_output_accuracy: 0.8904 - department_output_accuracy: 0.7564 - loss: 0.8171 - val_attrition_output_accuracy: 0.7627 - val_department_output_accuracy: 0.5297 - val_loss: 1.5154\n",
            "Epoch 44/75\n",
            "30/30 - 0s - 3ms/step - attrition_output_accuracy: 0.8872 - department_output_accuracy: 0.7894 - loss: 0.7908 - val_attrition_output_accuracy: 0.7542 - val_department_output_accuracy: 0.5678 - val_loss: 1.5434\n",
            "Epoch 45/75\n",
            "30/30 - 0s - 3ms/step - attrition_output_accuracy: 0.8915 - department_output_accuracy: 0.7702 - loss: 0.7922 - val_attrition_output_accuracy: 0.7415 - val_department_output_accuracy: 0.5805 - val_loss: 1.5655\n",
            "Epoch 46/75\n",
            "30/30 - 0s - 3ms/step - attrition_output_accuracy: 0.8947 - department_output_accuracy: 0.7830 - loss: 0.7803 - val_attrition_output_accuracy: 0.7585 - val_department_output_accuracy: 0.5678 - val_loss: 1.5393\n",
            "Epoch 47/75\n",
            "30/30 - 0s - 3ms/step - attrition_output_accuracy: 0.9000 - department_output_accuracy: 0.8021 - loss: 0.7641 - val_attrition_output_accuracy: 0.7627 - val_department_output_accuracy: 0.5805 - val_loss: 1.6012\n",
            "Epoch 48/75\n",
            "30/30 - 0s - 3ms/step - attrition_output_accuracy: 0.8968 - department_output_accuracy: 0.7979 - loss: 0.7498 - val_attrition_output_accuracy: 0.7500 - val_department_output_accuracy: 0.5932 - val_loss: 1.6215\n",
            "Epoch 49/75\n",
            "30/30 - 0s - 5ms/step - attrition_output_accuracy: 0.9053 - department_output_accuracy: 0.7926 - loss: 0.7330 - val_attrition_output_accuracy: 0.7585 - val_department_output_accuracy: 0.5720 - val_loss: 1.5959\n",
            "Epoch 50/75\n",
            "30/30 - 0s - 3ms/step - attrition_output_accuracy: 0.9011 - department_output_accuracy: 0.7904 - loss: 0.7246 - val_attrition_output_accuracy: 0.7542 - val_department_output_accuracy: 0.5042 - val_loss: 1.6363\n",
            "Epoch 51/75\n",
            "30/30 - 0s - 5ms/step - attrition_output_accuracy: 0.9011 - department_output_accuracy: 0.8128 - loss: 0.7219 - val_attrition_output_accuracy: 0.7542 - val_department_output_accuracy: 0.5424 - val_loss: 1.6516\n",
            "Epoch 52/75\n",
            "30/30 - 0s - 4ms/step - attrition_output_accuracy: 0.9032 - department_output_accuracy: 0.8117 - loss: 0.7179 - val_attrition_output_accuracy: 0.7712 - val_department_output_accuracy: 0.5466 - val_loss: 1.6965\n",
            "Epoch 53/75\n",
            "30/30 - 0s - 3ms/step - attrition_output_accuracy: 0.9043 - department_output_accuracy: 0.8117 - loss: 0.7037 - val_attrition_output_accuracy: 0.7458 - val_department_output_accuracy: 0.5508 - val_loss: 1.6878\n",
            "Epoch 54/75\n",
            "30/30 - 0s - 3ms/step - attrition_output_accuracy: 0.9085 - department_output_accuracy: 0.8223 - loss: 0.6804 - val_attrition_output_accuracy: 0.7415 - val_department_output_accuracy: 0.5551 - val_loss: 1.7045\n",
            "Epoch 55/75\n",
            "30/30 - 0s - 3ms/step - attrition_output_accuracy: 0.9053 - department_output_accuracy: 0.8191 - loss: 0.6830 - val_attrition_output_accuracy: 0.7627 - val_department_output_accuracy: 0.5339 - val_loss: 1.7247\n",
            "Epoch 56/75\n",
            "30/30 - 0s - 3ms/step - attrition_output_accuracy: 0.9096 - department_output_accuracy: 0.8372 - loss: 0.6612 - val_attrition_output_accuracy: 0.7415 - val_department_output_accuracy: 0.5720 - val_loss: 1.7599\n",
            "Epoch 57/75\n",
            "30/30 - 0s - 3ms/step - attrition_output_accuracy: 0.9160 - department_output_accuracy: 0.8319 - loss: 0.6450 - val_attrition_output_accuracy: 0.7669 - val_department_output_accuracy: 0.5593 - val_loss: 1.7612\n",
            "Epoch 58/75\n",
            "30/30 - 0s - 4ms/step - attrition_output_accuracy: 0.9149 - department_output_accuracy: 0.8362 - loss: 0.6490 - val_attrition_output_accuracy: 0.7585 - val_department_output_accuracy: 0.5297 - val_loss: 1.7840\n",
            "Epoch 59/75\n",
            "30/30 - 0s - 3ms/step - attrition_output_accuracy: 0.9170 - department_output_accuracy: 0.8351 - loss: 0.6300 - val_attrition_output_accuracy: 0.7585 - val_department_output_accuracy: 0.5720 - val_loss: 1.7847\n",
            "Epoch 60/75\n",
            "30/30 - 0s - 3ms/step - attrition_output_accuracy: 0.9149 - department_output_accuracy: 0.8479 - loss: 0.6161 - val_attrition_output_accuracy: 0.7585 - val_department_output_accuracy: 0.5551 - val_loss: 1.8040\n",
            "Epoch 61/75\n",
            "30/30 - 0s - 3ms/step - attrition_output_accuracy: 0.9117 - department_output_accuracy: 0.8553 - loss: 0.6108 - val_attrition_output_accuracy: 0.7669 - val_department_output_accuracy: 0.5551 - val_loss: 1.8540\n",
            "Epoch 62/75\n",
            "30/30 - 0s - 3ms/step - attrition_output_accuracy: 0.9191 - department_output_accuracy: 0.8543 - loss: 0.6035 - val_attrition_output_accuracy: 0.7754 - val_department_output_accuracy: 0.5636 - val_loss: 1.8918\n",
            "Epoch 63/75\n",
            "30/30 - 0s - 3ms/step - attrition_output_accuracy: 0.9202 - department_output_accuracy: 0.8553 - loss: 0.5953 - val_attrition_output_accuracy: 0.7500 - val_department_output_accuracy: 0.5254 - val_loss: 1.9043\n",
            "Epoch 64/75\n",
            "30/30 - 0s - 3ms/step - attrition_output_accuracy: 0.9245 - department_output_accuracy: 0.8511 - loss: 0.5888 - val_attrition_output_accuracy: 0.7754 - val_department_output_accuracy: 0.5636 - val_loss: 1.9481\n",
            "Epoch 65/75\n",
            "30/30 - 0s - 3ms/step - attrition_output_accuracy: 0.9319 - department_output_accuracy: 0.8628 - loss: 0.5797 - val_attrition_output_accuracy: 0.7585 - val_department_output_accuracy: 0.5636 - val_loss: 1.9606\n",
            "Epoch 66/75\n",
            "30/30 - 0s - 3ms/step - attrition_output_accuracy: 0.9298 - department_output_accuracy: 0.8691 - loss: 0.5707 - val_attrition_output_accuracy: 0.7754 - val_department_output_accuracy: 0.5466 - val_loss: 1.9431\n",
            "Epoch 67/75\n",
            "30/30 - 0s - 6ms/step - attrition_output_accuracy: 0.9266 - department_output_accuracy: 0.8596 - loss: 0.5623 - val_attrition_output_accuracy: 0.7585 - val_department_output_accuracy: 0.5466 - val_loss: 1.9887\n",
            "Epoch 68/75\n",
            "30/30 - 0s - 3ms/step - attrition_output_accuracy: 0.9351 - department_output_accuracy: 0.8691 - loss: 0.5460 - val_attrition_output_accuracy: 0.7627 - val_department_output_accuracy: 0.5381 - val_loss: 2.0084\n",
            "Epoch 69/75\n",
            "30/30 - 0s - 3ms/step - attrition_output_accuracy: 0.9309 - department_output_accuracy: 0.8723 - loss: 0.5410 - val_attrition_output_accuracy: 0.7712 - val_department_output_accuracy: 0.5424 - val_loss: 2.0472\n",
            "Epoch 70/75\n",
            "30/30 - 0s - 3ms/step - attrition_output_accuracy: 0.9298 - department_output_accuracy: 0.8723 - loss: 0.5299 - val_attrition_output_accuracy: 0.7627 - val_department_output_accuracy: 0.5085 - val_loss: 2.0763\n",
            "Epoch 71/75\n",
            "30/30 - 0s - 4ms/step - attrition_output_accuracy: 0.9394 - department_output_accuracy: 0.8798 - loss: 0.5232 - val_attrition_output_accuracy: 0.7458 - val_department_output_accuracy: 0.5381 - val_loss: 2.0370\n",
            "Epoch 72/75\n",
            "30/30 - 0s - 4ms/step - attrition_output_accuracy: 0.9372 - department_output_accuracy: 0.8840 - loss: 0.5083 - val_attrition_output_accuracy: 0.7669 - val_department_output_accuracy: 0.5424 - val_loss: 2.1168\n",
            "Epoch 73/75\n",
            "30/30 - 0s - 3ms/step - attrition_output_accuracy: 0.9436 - department_output_accuracy: 0.8936 - loss: 0.4942 - val_attrition_output_accuracy: 0.7458 - val_department_output_accuracy: 0.5381 - val_loss: 2.1573\n",
            "Epoch 74/75\n",
            "30/30 - 0s - 3ms/step - attrition_output_accuracy: 0.9372 - department_output_accuracy: 0.8936 - loss: 0.4896 - val_attrition_output_accuracy: 0.7627 - val_department_output_accuracy: 0.5297 - val_loss: 2.1363\n",
            "Epoch 75/75\n",
            "30/30 - 0s - 3ms/step - attrition_output_accuracy: 0.9436 - department_output_accuracy: 0.8936 - loss: 0.4785 - val_attrition_output_accuracy: 0.7458 - val_department_output_accuracy: 0.5381 - val_loss: 2.2170\n"
          ]
        }
      ],
      "source": [
        "# Train the model\n",
        "# Define the number of epochs and the batch size\n",
        "epochs = 75\n",
        "batch_size = 32\n",
        "\n",
        "# Train the model\n",
        "# Train the model with the updated binary targets\n",
        "history = model.fit(\n",
        "    X_train_scaled,\n",
        "    [y_train_department_encoded, y_train_attrition_binary],\n",
        "    validation_split=0.2,\n",
        "    epochs=epochs,\n",
        "    batch_size=batch_size,\n",
        "    verbose=2\n",
        ")\n",
        "\n",
        "\n",
        "\n"
      ]
    },
    {
      "cell_type": "code",
      "execution_count": 15,
      "metadata": {
        "colab": {
          "base_uri": "https://localhost:8080/"
        },
        "id": "VsMoaQlgGc3U",
        "outputId": "1bd4e601-e964-4abc-ad83-aeecf6b696be"
      },
      "outputs": [
        {
          "name": "stdout",
          "output_type": "stream",
          "text": [
            "10/10 - 0s - 4ms/step - attrition_output_accuracy: 0.8231 - department_output_accuracy: 0.5680 - loss: 1.7016\n",
            "Evaluation Results: [1.7015979290008545, 0.8231292366981506, 0.5680271983146667]\n"
          ]
        }
      ],
      "source": [
        "# Evaluate the model with the testing data\n",
        "\n",
        "# Evaluate the model on the testing data again (if necessary) and print the results\n",
        "evaluation_results = model.evaluate(\n",
        "    X_test_scaled,\n",
        "    [y_test_department_encoded, y_test_attrition_binary],\n",
        "    verbose=2\n",
        ")\n",
        "\n",
        "# Print the full evaluation results\n",
        "print(\"Evaluation Results:\", evaluation_results)\n",
        "\n",
        "\n"
      ]
    },
    {
      "cell_type": "code",
      "execution_count": 16,
      "metadata": {
        "colab": {
          "base_uri": "https://localhost:8080/"
        },
        "id": "ZlCtlHi0Vt54",
        "outputId": "bc21ef3e-80c2-4b38-9c29-79515bc23dec"
      },
      "outputs": [
        {
          "name": "stdout",
          "output_type": "stream",
          "text": [
            "Total Loss on Test Data: 1.70\n",
            "Accuracy for Attrition on Test Data: 82.31%\n",
            "Accuracy for Department on Test Data: 56.80%\n"
          ]
        }
      ],
      "source": [
        "# Print the accuracy for both department and attrition\n",
        "# Assuming evaluation_results follows the structure:\n",
        "# [total_loss, loss_department, accuracy_department, loss_attrition, accuracy_attrition]\n",
        "\n",
        "# Correct indices after confirming the actual results structure\n",
        "total_loss = evaluation_results[0]\n",
        "accuracy_attrition = evaluation_results[1]\n",
        "accuracy_department = evaluation_results[2]\n",
        "\n",
        "# Print accuracies\n",
        "print(f\"Total Loss on Test Data: {total_loss:.2f}\")\n",
        "print(f\"Accuracy for Attrition on Test Data: {accuracy_attrition*100:.2f}%\")\n",
        "print(f\"Accuracy for Department on Test Data: {accuracy_department*100:.2f}%\")\n",
        "\n",
        "\n"
      ]
    },
    {
      "cell_type": "markdown",
      "metadata": {
        "id": "eGSyfsZfWOQM"
      },
      "source": [
        "# Summary\n",
        "\n",
        "In the provided space below, briefly answer the following questions.\n",
        "\n",
        "1. Is accuracy the best metric to use on this data? Why or why not?\n",
        "\n",
        "Accuracy may not always be the best metric, especially if the dataset is imbalanced or if the costs of different types of errors vary significantly. For the Attrition prediction, where the outcome could be highly skewed (e.g., far more 'No' than 'Yes' instances), accuracy might give a misleading impression of model performance. For example, predicting 'No' for all cases might still yield a high accuracy if most employees do not leave, but it would be useless for identifying at-risk employees.\n",
        "\n",
        "For the Department classification, where multiple classes are involved, accuracy still might not fully capture the performance nuances, especially if some departments have significantly fewer samples than others. In such cases, other metrics like precision, recall, F1-score, and a confusion matrix can provide more insights into the model's performance across different classes, helping identify if the model is biased toward more common classes.\n",
        "\n",
        "\n",
        "2. What activation functions did you choose for your output layers, and why?\n",
        "\n",
        "For the Attrition output, a sigmoid activation function was chosen for the final layer because it's a binary classification task. The sigmoid function outputs a probability score between 0 and 1, which is ideal for binary outcomes ('Yes' or 'No' for attrition).\n",
        "\n",
        "For the Department output, a softmax activation function was used because it's a multi-class classification task. Softmax is suitable for such scenarios as it can handle multiple classes by outputting a probability distribution across the classes - the output values sum up to 1, so each value is the probability that the sample belongs to one of the classes.\n",
        "\n",
        "\n",
        "3. Can you name a few ways that this model might be improved?\n",
        "\n",
        "Several approaches could be taken to improve the model:\n",
        "\n",
        "- Data Resampling or Reweighting: Especially if the classes are imbalanced, using techniques like SMOTE for oversampling the minority class in training data or adjusting class weights in the model training process can help improve model fairness and accuracy across classes.\n",
        "- Feature Engineering: More sophisticated feature engineering could potentially improve model performance. This could include interaction terms, polynomial features, or new features derived from existing data (e.g., combining related features into a single metric).\n",
        "- Model Complexity: Adjusting the model's complexity by adding more layers or neurons, or trying different architectures like residual networks, could help if the model is underfitting.\n",
        "- Regularization Techniques: Implementing dropout, L1/L2 regularization, or early stopping could prevent overfitting and help the model generalize better to unseen data.\n",
        "- Hyperparameter Optimization: Systematically tuning the model's hyperparameters such as the learning rate, optimizer type, batch size, and number of epochs through methods like grid search or random search could lead to significant performance improvements.\n",
        "- Cross-validation: Using k-fold cross-validation instead of a single train-test split could provide a more reliable estimate of model performance and stability across different subsets of data.\n",
        "- Advanced Metrics Implementation: Using more comprehensive evaluation metrics and methods to analyze model performance deeply, such as ROC-AUC for binary classification tasks and macro/micro-averaged metrics for multiclass tasks."
      ]
    },
    {
      "cell_type": "markdown",
      "metadata": {},
      "source": []
    }
  ],
  "metadata": {
    "colab": {
      "provenance": []
    },
    "kernelspec": {
      "display_name": "Python 3 (ipykernel)",
      "language": "python",
      "name": "python3"
    },
    "language_info": {
      "codemirror_mode": {
        "name": "ipython",
        "version": 3
      },
      "file_extension": ".py",
      "mimetype": "text/x-python",
      "name": "python",
      "nbconvert_exporter": "python",
      "pygments_lexer": "ipython3",
      "version": "3.9.12"
    },
    "vscode": {
      "interpreter": {
        "hash": "31f2aee4e71d21fbe5cf8b01ff0e069b9275f58929596ceb00d14d90e3e16cd6"
      }
    }
  },
  "nbformat": 4,
  "nbformat_minor": 0
}
